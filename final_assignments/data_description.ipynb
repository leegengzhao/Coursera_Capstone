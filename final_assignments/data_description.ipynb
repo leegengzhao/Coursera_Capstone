{
 "cells": [
  {
   "cell_type": "markdown",
   "metadata": {},
   "source": [
    "Neighborhood Comparison Between Metropolitan Cities\n",
    "==============================================="
   ]
  },
  {
   "cell_type": "markdown",
   "metadata": {},
   "source": [
    "## 1. Introduction"
   ]
  },
  {
   "cell_type": "markdown",
   "metadata": {},
   "source": [
    "The United States and Canada population are increasingly mobile. People move and relocate for various reasons. For example, people move from one metropolitan area to another because they are changing jobs. However, metropolitan areas such as large cities all have their own economic, social, and cultural characteristics and these characteristics are reflected among their unique neighborhoods and communities. For people planning relocation, any knowledge related to the neighborhoods of their destination cities and how they are similar or dissimilar to their current city neighborhoods will be valuable. For example, it may help people find their desired places to live in their new cities.\n",
    "\n",
    "There are of course many different aspects that we can use when describing city neighborhoods and comparing them, such as populations, housing prices, traffic, and crime rates. For this project, we will focus on neighborhood points of interests (POIs) or venues."
   ]
  },
  {
   "cell_type": "markdown",
   "metadata": {},
   "source": [
    "## 2. Business Problem Description"
   ]
  },
  {
   "cell_type": "markdown",
   "metadata": {},
   "source": [
    "In this project, we will analyze neighborhood venues for Toronto and New York City (NYC) and attempt to answer two related questions:\n",
    "- When grouping all of Toronto and NYC neighborhoods in terms of nearby venues, what are the different groups and how they are unique from each others?\n",
    "- When selecting a neighborhood in origin city, what are the similar neighborhoods in the destination city centered around a business location, for example, Google NYC office?"
   ]
  },
  {
   "cell_type": "markdown",
   "metadata": {},
   "source": [
    "## 3. Data Description"
   ]
  },
  {
   "cell_type": "markdown",
   "metadata": {},
   "source": [
    "Neighborhood data for NYC will be acquired from this source https://geo.nyu.edu/catalog/nyu_2451_34572. We are interested in the following data elements for each neighborhood contained in the file:\n",
    "- Borough name\n",
    "- Neighborhood name\n",
    "- Neighborhood's latitude and longitude coordinates"
   ]
  },
  {
   "cell_type": "markdown",
   "metadata": {},
   "source": [
    "Neighborhood data for Toronto will be acquired from Wikipedia page https://en.wikipedia.org/wiki/List_of_postal_codes_of_Canada:_M. Because this source doesn't provide latitude and longitude coordinates, a Geocoder Python package https://geocoder.readthedocs.io/index.html will be used to produce the coordinates for each Toronto neighborhood."
   ]
  },
  {
   "cell_type": "markdown",
   "metadata": {},
   "source": [
    "Also, we will use the Foursquare API to explore neighborhoods in NYC and Toronto. Specifically, Foursquare API provides explore functions to get venues and venue categories in each neighborhood. These venues will be used as features to group the neighborhoods into clusters."
   ]
  }
 ],
 "metadata": {
  "kernelspec": {
   "display_name": "Python 3",
   "language": "python",
   "name": "python3"
  },
  "language_info": {
   "codemirror_mode": {
    "name": "ipython",
    "version": 3
   },
   "file_extension": ".py",
   "mimetype": "text/x-python",
   "name": "python",
   "nbconvert_exporter": "python",
   "pygments_lexer": "ipython3",
   "version": "3.7.7"
  }
 },
 "nbformat": 4,
 "nbformat_minor": 4
}
